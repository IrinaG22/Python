{
 "cells": [
  {
   "cell_type": "code",
   "execution_count": 19,
   "metadata": {},
   "outputs": [
    {
     "name": "stdout",
     "output_type": "stream",
     "text": [
      "Фразы равной длины\n"
     ]
    }
   ],
   "source": [
    "#Задание 1 Даны 2 переменных, в которых хранятся строки произвольной длины:phrase_1 и phrase_2. Напишите код, который проверяет какая из этих строк длиннее.\n",
    "phrase_1=len('Насколько проще было бы писать программы, если бы не заказчики')\n",
    "phrase_2=len('Насколько проще было бы писать программы, если бы не заказчики')\n",
    "if phrase_1 >phrase_2:\n",
    "    print ('Фраза 1 длиннее фразы 2')\n",
    "elif phrase_1 <phrase_2:    \n",
    "    print ('Фраза 2 длиннее фразы 1')\n",
    "elif phrase_1==phrase_2:    \n",
    "    print ('Фразы равной длины')"
   ]
  },
  {
   "cell_type": "code",
   "execution_count": 3,
   "metadata": {},
   "outputs": [
    {
     "name": "stdout",
     "output_type": "stream",
     "text": [
      "Високосный год\n"
     ]
    }
   ],
   "source": [
    "#Задание 2 Дана переменная, в которой хранится четырехзначное число (год). Необходимо написать программу, которая выведет, является ли данный год високосным или обычным.\n",
    "\n",
    "year = 2020\n",
    "if (year % 4 == 0) and (year % 100 != 0) or (year % 400 == 0):\n",
    "    print('Високосный год')\n",
    "else:\n",
    "    print('Обычный год')"
   ]
  },
  {
   "cell_type": "code",
   "execution_count": 14,
   "metadata": {},
   "outputs": [
    {
     "name": "stdout",
     "output_type": "stream",
     "text": [
      "Введите день рождения:30\n",
      "Введите месяц рождения:август\n",
      "Ваш знак зодиака:Дева\n"
     ]
    }
   ],
   "source": [
    "#Задание 3 Необходимо написать программу, которая будет запрашивать у пользователя месяц и дату рождения и выводить соответствующий знак зодиака.\n",
    "day=int(input('Введите день рождения:'))\n",
    "month=input('Введите месяц рождения:')\n",
    "if (month=='март' and day>=21 and day<=31) or (month=='апрель' and day>=1 and day<=19):\n",
    "    print ('Ваш знак зодиака:Овен')\n",
    "elif (month=='апрель' and day>=20 and day<=30) or (month=='май' and day>=1 and day<=20):\n",
    "    print ('Ваш знак зодиака:Телец')\n",
    "elif (month=='май' and day>=21 and day<=31) or (month=='июнь' and day>=1 and day<=21):\n",
    "    print (\"Ваш знак зодиака:Близнецы\")\n",
    "elif (month=='июнь' and day>=22 and day<=30) or (month=='июль' and day>=1 and day<=22):\n",
    "    print (\"Ваш знак зодиака:Рак\")\n",
    "elif (month=='июль' and day>=23 and day<=31) or (month=='август' and day>=1 and day<=22):\n",
    "    print (\"Ваш знак зодиака:Лев\")\n",
    "elif (month=='август' and day>=23 and day<=31) or (month=='сентябрь' and day>=1 and day<=22):\n",
    "    print (\"Ваш знак зодиака:Дева\")\n",
    "elif (month=='сентябрь' and day>=23 and day<=30) or (month=='октябрь' and day>=1 and day<=23):\n",
    "    print (\"Ваш знак зодиака:Весы\")\n",
    "elif (month=='октябрь' and day>=24 and day<=31) or (month=='ноябрь' and day>=1 and day<=22):\n",
    "    print (\"Ваш знак зодиака:Скорпион\")\n",
    "elif (month=='ноябрь' and day>=23 and day<=30) or (month=='декабрь' and day>=1 and day<=21):\n",
    "    print (\"Ваш знак зодиака:Стрелец\")\n",
    "elif (month=='декабрь' and day>=22 and day<=31) or (month=='январь' and day>=1 and day<=20):\n",
    "    print (\"Ваш знак зодиака:Козерог\")\n",
    "elif (month=='январь' and day>=21 and day<=31) or (month=='февраль' and day>=1 and day<=18):\n",
    "    print (\"Ваш знак зодиака:Водолей\")\n",
    "elif (month=='февраль' and day>=19 and day<=29) or (month=='март' and day>=1 and day<=20):\n",
    "    print (\"Ваш знак зодиака:Рыбы\")"
   ]
  },
  {
   "cell_type": "code",
   "execution_count": 19,
   "metadata": {},
   "outputs": [
    {
     "name": "stdout",
     "output_type": "stream",
     "text": [
      "Упаковка для лыж\n"
     ]
    }
   ],
   "source": [
    "#Задание 4 Вам нужно написать программу для подбора упаковок по размерам товара. Размеры хранятся в переменных (в сантиметрах):\n",
    "width = 10\n",
    "length = 205\n",
    "height = 5\n",
    "if width<15 and length<15 and height<15:\n",
    "    print ('Коробка №1')\n",
    "elif (width>15 and width<50) or (length>15 and length<50) or (height>15 and height<50):\n",
    "    print ('Коробка №2')\n",
    "elif length>200:\n",
    "    print ('Упаковка для лыж')\n",
    "else:\n",
    "    print ('Стандартная коробка №3')"
   ]
  },
  {
   "cell_type": "code",
   "execution_count": null,
   "metadata": {},
   "outputs": [],
   "source": []
  }
 ],
 "metadata": {
  "kernelspec": {
   "display_name": "Python 3",
   "language": "python",
   "name": "python3"
  },
  "language_info": {
   "codemirror_mode": {
    "name": "ipython",
    "version": 3
   },
   "file_extension": ".py",
   "mimetype": "text/x-python",
   "name": "python",
   "nbconvert_exporter": "python",
   "pygments_lexer": "ipython3",
   "version": "3.8.5"
  }
 },
 "nbformat": 4,
 "nbformat_minor": 4
}
