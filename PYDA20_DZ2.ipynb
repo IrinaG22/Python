{
 "cells": [
  {
   "cell_type": "code",
   "execution_count": 7,
   "metadata": {},
   "outputs": [
    {
     "name": "stdout",
     "output_type": "stream",
     "text": [
      "Введите слово: test\n",
      "es\n"
     ]
    }
   ],
   "source": [
    "#Дана переменная, в которой хранится слово из латинских букв. Напишите код, который выводит на экран: среднюю букву, если число букв в слове нечетное; две средних буквы, если число букв четное.\n",
    "ent_Str = input(\"Введите слово: \")\n",
    "dlina_Str = len(ent_Str)\n",
    "srednee_Str = dlina_Str / 2\n",
    "if dlina_Str % 2 == 0:\n",
    "    print(ent_Str[int(srednee_Str)-1:int(srednee_Str)+1])\n",
    "elif dlina_Str % 2 !=0:\n",
    "    print(ent_Str[int(srednee_Str)])"
   ]
  },
  {
   "cell_type": "code",
   "execution_count": 1,
   "metadata": {},
   "outputs": [
    {
     "name": "stdout",
     "output_type": "stream",
     "text": [
      "Введите число: 1\n",
      "Пожалуйста введите еще число: 4\n",
      "Пожалуйста введите еще число: 6\n",
      "Пожалуйста введите еще число: 0\n",
      "11\n"
     ]
    }
   ],
   "source": [
    "#Напишите программу, которая последовательно запрашивает у пользователя числа (по одному за раз) и после первого нуля выводит сумму всех ранее введенных чисел.\n",
    "stroka = int(input(\"Введите число: \"))\n",
    "sum = 0\n",
    "while stroka != 0:\n",
    "    sum += stroka\n",
    "    stroka = int(input(\"Пожалуйста введите еще число: \"))\n",
    "print(sum)"
   ]
  },
  {
   "cell_type": "code",
   "execution_count": 25,
   "metadata": {
    "scrolled": true
   },
   "outputs": [
    {
     "name": "stdout",
     "output_type": "stream",
     "text": [
      "Идеальные пары: \n"
     ]
    },
    {
     "data": {
      "text/plain": [
       "[('Alex', 'Emma'),\n",
       " ('Arthur', 'Kate'),\n",
       " ('John', 'Kira'),\n",
       " ('Peter', 'Liza'),\n",
       " ('Richard', 'Trisha')]"
      ]
     },
     "execution_count": 25,
     "metadata": {},
     "output_type": "execute_result"
    }
   ],
   "source": [
    "#Мы делаем MVP dating-сервиса, и у нас есть список парней и девушек.Выдвигаем гипотезу: лучшие рекомендации мы получим, если просто отсортируем имена по алфавиту и познакомим людей с одинаковыми индексами после сортировки! Но мы не будем никого знакомить, если кто-то может остаться без пары:\n",
    "boys = ['Peter', 'Alex', 'John', 'Arthur', 'Richard']\n",
    "girls = ['Kate', 'Liza', 'Kira', 'Emma', 'Trisha']\n",
    "if len(boys) == 5:\n",
    "   print('Идеальные пары: ')\n",
    "else:\n",
    "   print('Кто-то может остаться без пары')\n",
    "a = sorted(boys)\n",
    "b = sorted(girls)\n",
    "boys_by_girls=zip(a,b)\n",
    "list(boys_by_girls)"
   ]
  },
  {
   "cell_type": "code",
   "execution_count": 46,
   "metadata": {},
   "outputs": [
    {
     "name": "stdout",
     "output_type": "stream",
     "text": [
      "Средняя температура в странах:  [['Thailand', 23.9], ['Germany', 13.8], ['Russia', 3.7], ['Poland', 12.0]]\n"
     ]
    }
   ],
   "source": [
    "#У нас есть список, содержащий информацию о среднедневной температуре в Фаренгейтах за произвольный период по странам (структура данных в примере). Необходимо написать код, который рассчитает среднюю температуру за период в Цельсиях(!) для каждой страны\n",
    "countries_temperature = [\n",
    "['Thailand', [75.2, 77, 78.8, 73.4, 68, 75.2, 77]],\n",
    "['Germany', [57.2, 55.4, 59, 59, 53.6]],\n",
    "['Russia', [35.6, 37.4, 39.2, 41, 42.8, 39.2, 35.6]],\n",
    "['Poland', [50, 50, 53.6, 57.2, 55.4, 55.4]]\n",
    "]\n",
    "celsius_temperature = list(map(lambda x: [x[0], round((sum(x[1])/len(x[1]) - 32) / 1.8, 1)], countries_temperature))\n",
    " \n",
    "print('Средняя температура в странах: ', celsius_temperature)"
   ]
  },
  {
   "cell_type": "code",
   "execution_count": null,
   "metadata": {},
   "outputs": [],
   "source": []
  }
 ],
 "metadata": {
  "kernelspec": {
   "display_name": "Python 3",
   "language": "python",
   "name": "python3"
  },
  "language_info": {
   "codemirror_mode": {
    "name": "ipython",
    "version": 3
   },
   "file_extension": ".py",
   "mimetype": "text/x-python",
   "name": "python",
   "nbconvert_exporter": "python",
   "pygments_lexer": "ipython3",
   "version": "3.8.5"
  }
 },
 "nbformat": 4,
 "nbformat_minor": 4
}
